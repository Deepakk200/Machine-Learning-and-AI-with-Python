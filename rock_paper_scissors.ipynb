{
  "cells": [
    {
      "cell_type": "markdown",
      "metadata": {
        "id": "view-in-github",
        "colab_type": "text"
      },
      "source": [
        "<a href=\"https://colab.research.google.com/github/Deepakk200/Machine-Learning-and-AI-with-Python/blob/main/rock_paper_scissors.ipynb\" target=\"_parent\"><img src=\"https://colab.research.google.com/assets/colab-badge.svg\" alt=\"Open In Colab\"/></a>"
      ]
    },
    {
      "cell_type": "markdown",
      "metadata": {
        "id": "mUnCyOa6QUSB"
      },
      "source": [
        "**project : rock - paper - scissor game using python.**\n",
        "\n"
      ]
    },
    {
      "cell_type": "code",
      "execution_count": null,
      "metadata": {
        "colab": {
          "base_uri": "https://localhost:8080/"
        },
        "id": "ZPe6V74iQTaE",
        "outputId": "7190af58-5098-4db5-e43c-58ff297e04ce"
      },
      "outputs": [
        {
          "output_type": "stream",
          "name": "stdout",
          "text": [
            "Choose 'r' for rock, 'p' for paper, 's' for scissors: r\n",
            "It is a Tie rock.\n",
            "player_score =  0\n",
            "computer_score 0\n",
            "enter y/n to continuey\n",
            "Choose 'r' for rock, 'p' for paper, 's' for scissors: r\n",
            "You won! Rock beats scissors \n",
            "player_score =  1\n",
            "computer_score 0\n",
            "enter y/n to continuen\n",
            "None\n"
          ]
        }
      ],
      "source": [
        "import random\n",
        "\n",
        "\n",
        "def startplay():\n",
        "      player_score = 0\n",
        "      computer_score = 0\n",
        "      choice = 'y'\n",
        "      while choice == 'y':\n",
        "          user_choice = input(\"Choose 'r' for rock, 'p' for paper, 's' for scissors: \").lower()\n",
        "          computer_choice = random.choice(['p','r','s'])\n",
        "\n",
        "\n",
        "          #determining the winner\n",
        "          winner = determine_winner(user_choice , computer_choice)\n",
        "          print(winner)\n",
        "          if \"won\" in winner:\n",
        "            player_score = player_score + 1\n",
        "          elif \"lost\" in winner:\n",
        "                computer_score = computer_score + 1\n",
        "          elif \"tie\" in winner:\n",
        "            print(\"player_score = \",player_score)\n",
        "            print(\"\\ncomputer_score\",computer_score)\n",
        "\n",
        "\n",
        "          print(\"player_score = \",player_score)\n",
        "          print(\"computer_score\",computer_score)\n",
        "\n",
        "          choice = input(\"enter y/n to continue\").lower()\n",
        "\n",
        "def determine_winner(player_choice , computer_choice):\n",
        "     choices = {'r': 'rock' , 'p': 'paper','s':'scissors '}\n",
        "     if player_choice not in choices:\n",
        "            return \"Invalid input! Please choose 'r', 'p', or 's'.\"\n",
        "     choice = 'y'\n",
        "     player_score = 0\n",
        "     computer_score = 0\n",
        "\n",
        "     if player_choice == computer_choice:\n",
        "            return f\"It is a Tie {choices[player_choice]}.\"\n",
        "     if (player_choice == 'r' and computer_choice == 's') or \\\n",
        "        (player_choice == 's' and computer_choice == 'p') or \\\n",
        "        (player_choice == 'p' and computer_choice == 'r'):\n",
        "\n",
        "\n",
        "            return f\"You won! {choices[player_choice].capitalize()} beats {choices[computer_choice]}\"\n",
        "     else:\n",
        "          return f\"You lost! {choices[computer_choice].capitalize()} beats {choices[player_choice]}\"\n",
        "\n",
        "\n",
        "\n",
        "print(startplay())"
      ]
    }
  ],
  "metadata": {
    "colab": {
      "provenance": [],
      "include_colab_link": true
    },
    "kernelspec": {
      "display_name": "Python 3",
      "name": "python3"
    },
    "language_info": {
      "name": "python"
    }
  },
  "nbformat": 4,
  "nbformat_minor": 0
}