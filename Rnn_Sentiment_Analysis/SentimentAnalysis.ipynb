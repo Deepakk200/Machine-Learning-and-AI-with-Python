{
 "cells": [
  {
   "cell_type": "markdown",
   "id": "b991490b",
   "metadata": {},
   "source": [
    "Importing Libraries And Dataset \n"
   ]
  },
  {
   "cell_type": "code",
   "execution_count": 64,
   "id": "46a4d45b",
   "metadata": {},
   "outputs": [],
   "source": [
    "import pandas as pd\n",
    "import numpy as np\n",
    "import tensorflow as tf\n",
    "import re\n",
    "from sklearn.model_selection import train_test_split\n",
    "from tensorflow.keras.preprocessing.text import Tokenizer \n",
    "from tensorflow.keras.preprocessing.sequence import pad_sequences\n",
    "from tensorflow.keras.models import Sequential\n",
    "from tensorflow.keras.layers import Embedding, LSTM, Dense, Dropout, Bidirectional\n",
    "from tensorflow.keras.callbacks import EarlyStopping"
   ]
  },
  {
   "cell_type": "code",
   "execution_count": 65,
   "id": "cb5a6483",
   "metadata": {},
   "outputs": [],
   "source": [
    "# seed for reproducibility\n",
    "np.random.seed(42)\n",
    "tf.random.set_seed(42)"
   ]
  },
  {
   "cell_type": "markdown",
   "id": "58c2cb82",
   "metadata": {},
   "source": [
    "Loading Dataset"
   ]
  },
  {
   "cell_type": "code",
   "execution_count": 66,
   "id": "890aa604",
   "metadata": {},
   "outputs": [
    {
     "data": {
      "text/html": [
       "<div>\n",
       "<style scoped>\n",
       "    .dataframe tbody tr th:only-of-type {\n",
       "        vertical-align: middle;\n",
       "    }\n",
       "\n",
       "    .dataframe tbody tr th {\n",
       "        vertical-align: top;\n",
       "    }\n",
       "\n",
       "    .dataframe thead th {\n",
       "        text-align: right;\n",
       "    }\n",
       "</style>\n",
       "<table border=\"1\" class=\"dataframe\">\n",
       "  <thead>\n",
       "    <tr style=\"text-align: right;\">\n",
       "      <th></th>\n",
       "      <th>ID</th>\n",
       "      <th>Area</th>\n",
       "      <th>City</th>\n",
       "      <th>Restaurant Price</th>\n",
       "      <th>Avg Rating</th>\n",
       "      <th>Total Rating</th>\n",
       "      <th>Food Item</th>\n",
       "      <th>Food Type</th>\n",
       "      <th>Delivery Time</th>\n",
       "      <th>Review</th>\n",
       "    </tr>\n",
       "  </thead>\n",
       "  <tbody>\n",
       "    <tr>\n",
       "      <th>0</th>\n",
       "      <td>1</td>\n",
       "      <td>Suburb</td>\n",
       "      <td>Ahmedabad</td>\n",
       "      <td>600</td>\n",
       "      <td>4.2</td>\n",
       "      <td>6198</td>\n",
       "      <td>Sushi</td>\n",
       "      <td>Fast Food</td>\n",
       "      <td>30-40 min</td>\n",
       "      <td>Good, but nothing extraordinary.</td>\n",
       "    </tr>\n",
       "    <tr>\n",
       "      <th>1</th>\n",
       "      <td>2</td>\n",
       "      <td>Business District</td>\n",
       "      <td>Pune</td>\n",
       "      <td>200</td>\n",
       "      <td>4.7</td>\n",
       "      <td>4865</td>\n",
       "      <td>Pepperoni Pizza</td>\n",
       "      <td>Non-Vegetarian</td>\n",
       "      <td>50-60 min</td>\n",
       "      <td>Good, but nothing extraordinary.</td>\n",
       "    </tr>\n",
       "    <tr>\n",
       "      <th>2</th>\n",
       "      <td>3</td>\n",
       "      <td>Suburb</td>\n",
       "      <td>Bangalore</td>\n",
       "      <td>600</td>\n",
       "      <td>4.7</td>\n",
       "      <td>2095</td>\n",
       "      <td>Waffles</td>\n",
       "      <td>Fast Food</td>\n",
       "      <td>50-60 min</td>\n",
       "      <td>Late delivery ruined it.</td>\n",
       "    </tr>\n",
       "    <tr>\n",
       "      <th>3</th>\n",
       "      <td>4</td>\n",
       "      <td>Business District</td>\n",
       "      <td>Mumbai</td>\n",
       "      <td>900</td>\n",
       "      <td>4.0</td>\n",
       "      <td>6639</td>\n",
       "      <td>Sushi</td>\n",
       "      <td>Vegetarian</td>\n",
       "      <td>50-60 min</td>\n",
       "      <td>Best meal I've had in a while!</td>\n",
       "    </tr>\n",
       "    <tr>\n",
       "      <th>4</th>\n",
       "      <td>5</td>\n",
       "      <td>Tech Park</td>\n",
       "      <td>Mumbai</td>\n",
       "      <td>200</td>\n",
       "      <td>4.7</td>\n",
       "      <td>6926</td>\n",
       "      <td>Spring Rolls</td>\n",
       "      <td>Gluten-Free</td>\n",
       "      <td>20-30 min</td>\n",
       "      <td>Mediocre experience.</td>\n",
       "    </tr>\n",
       "  </tbody>\n",
       "</table>\n",
       "</div>"
      ],
      "text/plain": [
       "   ID               Area  ... Delivery Time                            Review\n",
       "0   1             Suburb  ...     30-40 min  Good, but nothing extraordinary.\n",
       "1   2  Business District  ...     50-60 min  Good, but nothing extraordinary.\n",
       "2   3             Suburb  ...     50-60 min          Late delivery ruined it.\n",
       "3   4  Business District  ...     50-60 min    Best meal I've had in a while!\n",
       "4   5          Tech Park  ...     20-30 min              Mediocre experience.\n",
       "\n",
       "[5 rows x 10 columns]"
      ]
     },
     "execution_count": 66,
     "metadata": {},
     "output_type": "execute_result"
    }
   ],
   "source": [
    "data = pd.read_csv('swiggy.csv')\n",
    "data.head()"
   ]
  },
  {
   "cell_type": "code",
   "execution_count": 67,
   "id": "a6003287",
   "metadata": {},
   "outputs": [
    {
     "name": "stdout",
     "output_type": "stream",
     "text": [
      "['ID', 'Area', 'City', 'Restaurant Price', 'Avg Rating', 'Total Rating', 'Food Item', 'Food Type', 'Delivery Time', 'Review']\n"
     ]
    }
   ],
   "source": [
    "print(data.columns.tolist())"
   ]
  },
  {
   "cell_type": "markdown",
   "id": "20936efc",
   "metadata": {},
   "source": [
    "Text Cleaning and Sentiment Labeling"
   ]
  },
  {
   "cell_type": "code",
   "execution_count": 68,
   "id": "8cb49aff",
   "metadata": {},
   "outputs": [],
   "source": [
    "data[\"Review\"] = data[\"Review\"].str.lower()\n",
    "data['Review'] = data['Review'].replace(r'[^a-z0-9\\s]', '' , regex=True)\n",
    "\n",
    "data['sentiment'] = data['Avg Rating'].apply(lambda x: 1 if x >= 4 else 0)"
   ]
  },
  {
   "cell_type": "markdown",
   "id": "f7ce9a8b",
   "metadata": {},
   "source": [
    " Tokenization and Padding"
   ]
  },
  {
   "cell_type": "code",
   "execution_count": 69,
   "id": "38a02982",
   "metadata": {},
   "outputs": [
    {
     "data": {
      "text/plain": [
       "array([1, 1, 1, ..., 1, 1, 1], dtype=int64)"
      ]
     },
     "execution_count": 69,
     "metadata": {},
     "output_type": "execute_result"
    }
   ],
   "source": [
    "max_features = 10000\n",
    "max_length = 200\n",
    "\n",
    "tokenizer = Tokenizer(num_words = max_features)\n",
    "tokenizer.fit_on_texts(data['Review'])\n",
    "X = pad_sequences(tokenizer.texts_to_sequences(data['Review']), maxlen=max_length)\n",
    "y = data['sentiment'].values\n",
    "y"
   ]
  },
  {
   "cell_type": "markdown",
   "id": "14f3c63e",
   "metadata": {},
   "source": [
    " Splitting the Data"
   ]
  },
  {
   "cell_type": "code",
   "execution_count": 70,
   "id": "e21cedf0",
   "metadata": {},
   "outputs": [],
   "source": [
    "X_train , X_test, y_train, y_test = train_test_split(X,y , test_size=0.2, random_state=42 , stratify = y)\n",
    "\n",
    "X_train, X_val, y_train, y_val = train_test_split(\n",
    "    X_train, y_train, test_size=0.1, random_state=42, stratify=y_train\n",
    ")"
   ]
  },
  {
   "cell_type": "markdown",
   "id": "5ce7b5d0",
   "metadata": {},
   "source": [
    "Building RNN Model :\n",
    "\n"
   ]
  },
  {
   "cell_type": "code",
   "execution_count": 71,
   "id": "2bde8c2c",
   "metadata": {},
   "outputs": [],
   "source": [
    "model = Sequential([\n",
    "    Embedding(input_dim=max_features, output_dim=128, input_length=max_length),\n",
    "    Bidirectional(LSTM(128, return_sequences=False)), \n",
    "    Dropout(0.5),\n",
    "    Dense(1, activation='sigmoid')\n",
    "    \n",
    "])\n",
    "model.compile(optimizer='adam', loss='binary_crossentropy', metrics=['accuracy'])\n",
    "\n",
    "early_stop = EarlyStopping(monitor='val_loss', patience=2, restore_best_weights=True)\n"
   ]
  },
  {
   "cell_type": "markdown",
   "id": "72983e14",
   "metadata": {},
   "source": [
    "Training and Evaluating Model :\n",
    "\n",
    "We will train the model on training data, validate it during training, then evaluate its performance on test data.\n"
   ]
  },
  {
   "cell_type": "code",
   "execution_count": 72,
   "id": "ff644dce",
   "metadata": {},
   "outputs": [
    {
     "name": "stdout",
     "output_type": "stream",
     "text": [
      "Epoch 1/10\n",
      "90/90 [==============================] - 87s 941ms/step - loss: 0.6043 - accuracy: 0.7144 - val_loss: 0.5972 - val_accuracy: 0.7156\n",
      "Epoch 2/10\n",
      "90/90 [==============================] - 81s 897ms/step - loss: 0.6009 - accuracy: 0.7160 - val_loss: 0.5967 - val_accuracy: 0.7156\n",
      "Epoch 3/10\n",
      "90/90 [==============================] - 79s 878ms/step - loss: 0.5991 - accuracy: 0.7160 - val_loss: 0.5996 - val_accuracy: 0.7156\n",
      "Epoch 4/10\n",
      "90/90 [==============================] - 96s 1s/step - loss: 0.5987 - accuracy: 0.7160 - val_loss: 0.5960 - val_accuracy: 0.7156\n",
      "Epoch 5/10\n",
      "90/90 [==============================] - 81s 903ms/step - loss: 0.5966 - accuracy: 0.7160 - val_loss: 0.5966 - val_accuracy: 0.7156\n",
      "Epoch 6/10\n",
      "90/90 [==============================] - 87s 963ms/step - loss: 0.5995 - accuracy: 0.7160 - val_loss: 0.5959 - val_accuracy: 0.7156\n",
      "Epoch 7/10\n",
      "90/90 [==============================] - 170s 2s/step - loss: 0.5972 - accuracy: 0.7160 - val_loss: 0.5980 - val_accuracy: 0.7156\n",
      "Epoch 8/10\n",
      "90/90 [==============================] - 163s 2s/step - loss: 0.5975 - accuracy: 0.7160 - val_loss: 0.5964 - val_accuracy: 0.7156\n",
      "Test accuracy: 71.56%\n"
     ]
    }
   ],
   "source": [
    "history = model.fit(X_train, y_train, epochs=10, batch_size=64, validation_data=(X_val, y_val),callbacks=[early_stop],verbose=1)\n",
    "score = model.evaluate(X_test, y_test, verbose=0)\n",
    "print(f\"Test accuracy: {score[1]*100:.2f}%\")"
   ]
  },
  {
   "cell_type": "code",
   "execution_count": 73,
   "id": "03d8044f",
   "metadata": {},
   "outputs": [
    {
     "name": "stdout",
     "output_type": "stream",
     "text": [
      "Review: The food was great.\n",
      "Sentiment: Positive (Probability: 0.71)\n"
     ]
    }
   ],
   "source": [
    "def predict_sentiment(review_text):\n",
    "    text = review_text.lower()\n",
    "    text = re.sub(r'[^a-z0-9\\s]', '', text)\n",
    "    seq = tokenizer.texts_to_sequences([text])\n",
    "    padded = pad_sequences(seq, maxlen=max_length)\n",
    "    prediction = model.predict(padded, verbose=0)[0][0]\n",
    "    return f\"{'Positive' if prediction >= 0.5 else 'Negative'} (Probability: {prediction:.2f})\"\n",
    "\n",
    "# Test\n",
    "sample_review = \"The food was great.\"\n",
    "print(f\"Review: {sample_review}\")\n",
    "print(f\"Sentiment: {predict_sentiment(sample_review)}\")"
   ]
  }
 ],
 "metadata": {
  "kernelspec": {
   "display_name": "Fashion_mnist",
   "language": "python",
   "name": "python3"
  },
  "language_info": {
   "codemirror_mode": {
    "name": "ipython",
    "version": 3
   },
   "file_extension": ".py",
   "mimetype": "text/x-python",
   "name": "python",
   "nbconvert_exporter": "python",
   "pygments_lexer": "ipython3",
   "version": "3.10.18"
  }
 },
 "nbformat": 4,
 "nbformat_minor": 5
}
